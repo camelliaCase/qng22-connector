{
 "cells": [
  {
   "cell_type": "code",
   "execution_count": null,
   "id": "092a1b46",
   "metadata": {},
   "outputs": [],
   "source": [
    "#n!/r!(n-r)!\n",
    "\n",
    "permsSF = math.factorial(500001)/(math.factorial(4)*math.factorial(500001-4))"
   ]
  },
  {
   "cell_type": "code",
   "execution_count": null,
   "id": "07a4bb21",
   "metadata": {},
   "outputs": [],
   "source": [
    "perms1000 = math.factorial(1000)/(math.factorial(6)*math.factorial(1000-6))"
   ]
  },
  {
   "cell_type": "code",
   "execution_count": null,
   "id": "cffb18b6",
   "metadata": {},
   "outputs": [],
   "source": [
    "print(perms1000)"
   ]
  },
  {
   "cell_type": "code",
   "execution_count": null,
   "id": "2b9ae4f5",
   "metadata": {},
   "outputs": [],
   "source": [
    "print(permsSF)"
   ]
  },
  {
   "cell_type": "markdown",
   "id": "7c2afb64",
   "metadata": {},
   "source": [
    "1. Generate every possible combination of variables\n",
    "2. run in target batches\n",
    "3. Each batch can only take 1000 list entries\n",
    "4. Either running all possible numbers concurrently or begin with ranges start finish to narrow down successful areas?\n",
    "\n",
    "range of start to finish values: [[0,0],[0,0,0],0] - [[500000,500000],[500000,500000,2pi],999]\n",
    "\n",
    "BREADTH first search?\n",
    "\n",
    "                                            Target\n",
    "                                            (0-999)\n",
    "                                   ____________|____________\n",
    "                                  /            |            \\ \n",
    "                                 /             |             \\  \n",
    "                                /              |              \\    \n",
    "                               /               |               \\  \n",
    "                              /                |                \\ \n",
    "                             /                 |                 \\  \n",
    "                            /                  |                  \\  \n",
    "                         Pulse            Measurement            Phase\n",
    "                         /   \\               /   \\              (0-2pi)\n",
    "                        /     \\             /     \\             Perhaps could be in pi/6 segments instead?\n",
    "                       /       \\           /       \\            Then Phase sits at top of search\n",
    "                      S         F         S         F\n",
    "                 (0-500000)(0-500000)(0-500000)(0-500000)  \n",
    "                 \n",
    "S/F = range(0,5000001, 50000)\n",
    "\n",
    "10 data sets w/permutations 0-1000 \n",
    "Each data set has 1000000 rows\n"
   ]
  },
  {
   "cell_type": "code",
   "execution_count": 16,
   "id": "84ec7048",
   "metadata": {},
   "outputs": [],
   "source": [
    "import qe_radar as qe\n",
    "import numpy as np\n",
    "import math\n",
    "import pandas as pd\n",
    "import itertools"
   ]
  },
  {
   "cell_type": "code",
   "execution_count": 17,
   "id": "0f6747b3",
   "metadata": {},
   "outputs": [],
   "source": [
    "token = 'f3271d60-3d3b-4787-acdd-478251fbf6be'"
   ]
  },
  {
   "cell_type": "code",
   "execution_count": 18,
   "id": "55281a16",
   "metadata": {},
   "outputs": [],
   "source": [
    "piArray = [*np.arange(0, 2*math.pi, math.pi/6)]\n",
    "piArray.append(2*math.pi)"
   ]
  },
  {
   "cell_type": "code",
   "execution_count": 19,
   "id": "0bb47d19",
   "metadata": {},
   "outputs": [],
   "source": [
    "targets = np.arange(0, 1000, 1)"
   ]
  },
  {
   "cell_type": "code",
   "execution_count": 20,
   "id": "b30ec828",
   "metadata": {},
   "outputs": [],
   "source": [
    "arr = np.arange(0, 550000, 50000)"
   ]
  },
  {
   "cell_type": "code",
   "execution_count": 21,
   "id": "f62dc4da",
   "metadata": {},
   "outputs": [],
   "source": [
    "combs = filter(lambda A: A[1] > A[0] and A[2] >= A[1] and A[3] > A[2] and A[3] > A[1], itertools.product(arr,repeat=4))\n"
   ]
  },
  {
   "cell_type": "code",
   "execution_count": 22,
   "id": "2a505ca3",
   "metadata": {},
   "outputs": [],
   "source": [
    "df = pd.DataFrame.from_records(combs)"
   ]
  },
  {
   "cell_type": "code",
   "execution_count": 23,
   "id": "91b5276a",
   "metadata": {},
   "outputs": [],
   "source": [
    "df.columns = ['pStart', 'pFinish', 'mStart', 'mFinish']\n",
    "df['Phase'] = 0"
   ]
  },
  {
   "cell_type": "code",
   "execution_count": 24,
   "id": "1caca08a",
   "metadata": {},
   "outputs": [
    {
     "data": {
      "text/html": [
       "<div>\n",
       "<style scoped>\n",
       "    .dataframe tbody tr th:only-of-type {\n",
       "        vertical-align: middle;\n",
       "    }\n",
       "\n",
       "    .dataframe tbody tr th {\n",
       "        vertical-align: top;\n",
       "    }\n",
       "\n",
       "    .dataframe thead th {\n",
       "        text-align: right;\n",
       "    }\n",
       "</style>\n",
       "<table border=\"1\" class=\"dataframe\">\n",
       "  <thead>\n",
       "    <tr style=\"text-align: right;\">\n",
       "      <th></th>\n",
       "      <th>pStart</th>\n",
       "      <th>pFinish</th>\n",
       "      <th>mStart</th>\n",
       "      <th>mFinish</th>\n",
       "      <th>Phase</th>\n",
       "    </tr>\n",
       "  </thead>\n",
       "  <tbody>\n",
       "    <tr>\n",
       "      <th>0</th>\n",
       "      <td>0</td>\n",
       "      <td>50000</td>\n",
       "      <td>50000</td>\n",
       "      <td>100000</td>\n",
       "      <td>0</td>\n",
       "    </tr>\n",
       "    <tr>\n",
       "      <th>1</th>\n",
       "      <td>0</td>\n",
       "      <td>50000</td>\n",
       "      <td>50000</td>\n",
       "      <td>150000</td>\n",
       "      <td>0</td>\n",
       "    </tr>\n",
       "    <tr>\n",
       "      <th>2</th>\n",
       "      <td>0</td>\n",
       "      <td>50000</td>\n",
       "      <td>50000</td>\n",
       "      <td>200000</td>\n",
       "      <td>0</td>\n",
       "    </tr>\n",
       "    <tr>\n",
       "      <th>3</th>\n",
       "      <td>0</td>\n",
       "      <td>50000</td>\n",
       "      <td>50000</td>\n",
       "      <td>250000</td>\n",
       "      <td>0</td>\n",
       "    </tr>\n",
       "    <tr>\n",
       "      <th>4</th>\n",
       "      <td>0</td>\n",
       "      <td>50000</td>\n",
       "      <td>50000</td>\n",
       "      <td>300000</td>\n",
       "      <td>0</td>\n",
       "    </tr>\n",
       "    <tr>\n",
       "      <th>...</th>\n",
       "      <td>...</td>\n",
       "      <td>...</td>\n",
       "      <td>...</td>\n",
       "      <td>...</td>\n",
       "      <td>...</td>\n",
       "    </tr>\n",
       "    <tr>\n",
       "      <th>490</th>\n",
       "      <td>350000</td>\n",
       "      <td>400000</td>\n",
       "      <td>400000</td>\n",
       "      <td>450000</td>\n",
       "      <td>0</td>\n",
       "    </tr>\n",
       "    <tr>\n",
       "      <th>491</th>\n",
       "      <td>350000</td>\n",
       "      <td>400000</td>\n",
       "      <td>400000</td>\n",
       "      <td>500000</td>\n",
       "      <td>0</td>\n",
       "    </tr>\n",
       "    <tr>\n",
       "      <th>492</th>\n",
       "      <td>350000</td>\n",
       "      <td>400000</td>\n",
       "      <td>450000</td>\n",
       "      <td>500000</td>\n",
       "      <td>0</td>\n",
       "    </tr>\n",
       "    <tr>\n",
       "      <th>493</th>\n",
       "      <td>350000</td>\n",
       "      <td>450000</td>\n",
       "      <td>450000</td>\n",
       "      <td>500000</td>\n",
       "      <td>0</td>\n",
       "    </tr>\n",
       "    <tr>\n",
       "      <th>494</th>\n",
       "      <td>400000</td>\n",
       "      <td>450000</td>\n",
       "      <td>450000</td>\n",
       "      <td>500000</td>\n",
       "      <td>0</td>\n",
       "    </tr>\n",
       "  </tbody>\n",
       "</table>\n",
       "<p>495 rows × 5 columns</p>\n",
       "</div>"
      ],
      "text/plain": [
       "     pStart  pFinish  mStart  mFinish  Phase\n",
       "0         0    50000   50000   100000      0\n",
       "1         0    50000   50000   150000      0\n",
       "2         0    50000   50000   200000      0\n",
       "3         0    50000   50000   250000      0\n",
       "4         0    50000   50000   300000      0\n",
       "..      ...      ...     ...      ...    ...\n",
       "490  350000   400000  400000   450000      0\n",
       "491  350000   400000  400000   500000      0\n",
       "492  350000   400000  450000   500000      0\n",
       "493  350000   450000  450000   500000      0\n",
       "494  400000   450000  450000   500000      0\n",
       "\n",
       "[495 rows x 5 columns]"
      ]
     },
     "execution_count": 24,
     "metadata": {},
     "output_type": "execute_result"
    }
   ],
   "source": [
    "df"
   ]
  },
  {
   "cell_type": "code",
   "execution_count": 11,
   "id": "d5a3ad86",
   "metadata": {},
   "outputs": [],
   "source": [
    "pulse = df.iloc[:,0:2].values.tolist()\n",
    "measurement = df.iloc[:,2:].values.tolist()"
   ]
  },
  {
   "cell_type": "code",
   "execution_count": 25,
   "id": "848cda35",
   "metadata": {},
   "outputs": [],
   "source": [
    "simulator = qe.DevSimulator(token)"
   ]
  },
  {
   "cell_type": "code",
   "execution_count": 26,
   "id": "29b88d1c",
   "metadata": {},
   "outputs": [],
   "source": [
    "dev_radar = qe.DevSimulator()\n",
    "dev_radar.authentication(token)"
   ]
  },
  {
   "cell_type": "code",
   "execution_count": 27,
   "id": "655e8247",
   "metadata": {},
   "outputs": [
    {
     "ename": "Exception",
     "evalue": "{\"Error\":\"Version of QNG Connector needs critical updates, please download the new one at https://github.com/RDC-Mitchell/qng22-connector with recent additions like mass submission of simulations\"}\n",
     "output_type": "error",
     "traceback": [
      "\u001b[1;31m---------------------------------------------------------------------------\u001b[0m",
      "\u001b[1;31mException\u001b[0m                                 Traceback (most recent call last)",
      "\u001b[1;32m~\\AppData\\Local\\Temp/ipykernel_9100/2127348479.py\u001b[0m in \u001b[0;36m<module>\u001b[1;34m\u001b[0m\n\u001b[1;32m----> 1\u001b[1;33m \u001b[0mexample\u001b[0m \u001b[1;33m=\u001b[0m \u001b[0mdev_radar\u001b[0m\u001b[1;33m.\u001b[0m\u001b[0msimulate\u001b[0m\u001b[1;33m(\u001b[0m\u001b[1;33m[\u001b[0m\u001b[1;36m0\u001b[0m\u001b[1;33m,\u001b[0m \u001b[1;36m10\u001b[0m\u001b[1;33m]\u001b[0m\u001b[1;33m,\u001b[0m \u001b[1;33m[\u001b[0m\u001b[1;36m5\u001b[0m\u001b[1;33m,\u001b[0m \u001b[1;36m15\u001b[0m\u001b[1;33m,\u001b[0m \u001b[1;36m0\u001b[0m\u001b[1;33m]\u001b[0m\u001b[1;33m,\u001b[0m \u001b[1;36m0\u001b[0m\u001b[1;33m)\u001b[0m\u001b[1;33m\u001b[0m\u001b[1;33m\u001b[0m\u001b[0m\n\u001b[0m",
      "\u001b[1;32m~\\OneDrive\\Documents\\GitHub\\qng22-connector\\qe_radar.py\u001b[0m in \u001b[0;36msimulate\u001b[1;34m(self, pulse, measure, example)\u001b[0m\n\u001b[0;32m     32\u001b[0m         \u001b[0mdata\u001b[0m \u001b[1;33m=\u001b[0m \u001b[0mr\u001b[0m\u001b[1;33m.\u001b[0m\u001b[0mjson\u001b[0m\u001b[1;33m(\u001b[0m\u001b[1;33m)\u001b[0m\u001b[1;33m\u001b[0m\u001b[1;33m\u001b[0m\u001b[0m\n\u001b[0;32m     33\u001b[0m         \u001b[1;32mif\u001b[0m \u001b[0mr\u001b[0m\u001b[1;33m.\u001b[0m\u001b[0mstatus_code\u001b[0m \u001b[1;33m!=\u001b[0m \u001b[1;36m200\u001b[0m\u001b[1;33m:\u001b[0m\u001b[1;33m\u001b[0m\u001b[1;33m\u001b[0m\u001b[0m\n\u001b[1;32m---> 34\u001b[1;33m             \u001b[1;32mraise\u001b[0m \u001b[0mException\u001b[0m\u001b[1;33m(\u001b[0m\u001b[0mr\u001b[0m\u001b[1;33m.\u001b[0m\u001b[0mtext\u001b[0m\u001b[1;33m)\u001b[0m\u001b[1;33m\u001b[0m\u001b[1;33m\u001b[0m\u001b[0m\n\u001b[0m\u001b[0;32m     35\u001b[0m         \u001b[1;32melse\u001b[0m\u001b[1;33m:\u001b[0m\u001b[1;33m\u001b[0m\u001b[1;33m\u001b[0m\u001b[0m\n\u001b[0;32m     36\u001b[0m             \u001b[1;31m#return to user the actual value of the request, removing header and online data that is unneeded\u001b[0m\u001b[1;33m\u001b[0m\u001b[1;33m\u001b[0m\u001b[0m\n",
      "\u001b[1;31mException\u001b[0m: {\"Error\":\"Version of QNG Connector needs critical updates, please download the new one at https://github.com/RDC-Mitchell/qng22-connector with recent additions like mass submission of simulations\"}\n"
     ]
    }
   ],
   "source": [
    "example = dev_radar.simulate([0, 10], [5, 15, 0], 0)"
   ]
  },
  {
   "cell_type": "code",
   "execution_count": null,
   "id": "866f89fe",
   "metadata": {},
   "outputs": [],
   "source": []
  },
  {
   "cell_type": "code",
   "execution_count": null,
   "id": "74735e35",
   "metadata": {},
   "outputs": [],
   "source": []
  },
  {
   "cell_type": "code",
   "execution_count": null,
   "id": "ac97f642",
   "metadata": {},
   "outputs": [],
   "source": []
  },
  {
   "cell_type": "code",
   "execution_count": null,
   "id": "e0e47ba5",
   "metadata": {},
   "outputs": [],
   "source": []
  },
  {
   "cell_type": "code",
   "execution_count": null,
   "id": "69b68c5c",
   "metadata": {},
   "outputs": [],
   "source": []
  },
  {
   "cell_type": "code",
   "execution_count": null,
   "id": "431343a8",
   "metadata": {},
   "outputs": [],
   "source": [
    "'''phaseDict = {}\n",
    "for phase in piArray:\n",
    "    df1 = df.copy(deep=True)\n",
    "    df1['Phase'] = phase\n",
    "    targetsDict = {}\n",
    "    phaseDict[phase] = targetsDict\n",
    "    for target in targets:\n",
    "        df2 = df1.copy(deep=True)\n",
    "        df2['Target'] = target\n",
    "        phaseDict[phase][target] = df2\n",
    "        \n",
    "        \n",
    "subArr = []\n",
    "\n",
    "for row in phaseDict[0][0].itertuples(index=False):\n",
    "    subArr.append([[row[0], row[1]], [row[2], row[3], row[4]], row[5]])'''"
   ]
  }
 ],
 "metadata": {
  "kernelspec": {
   "display_name": "Python 3 (ipykernel)",
   "language": "python",
   "name": "python3"
  },
  "language_info": {
   "codemirror_mode": {
    "name": "ipython",
    "version": 3
   },
   "file_extension": ".py",
   "mimetype": "text/x-python",
   "name": "python",
   "nbconvert_exporter": "python",
   "pygments_lexer": "ipython3",
   "version": "3.9.7"
  }
 },
 "nbformat": 4,
 "nbformat_minor": 5
}
